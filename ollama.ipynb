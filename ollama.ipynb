{
  "nbformat": 4,
  "nbformat_minor": 0,
  "metadata": {
    "colab": {
      "provenance": [],
      "gpuType": "T4"
    },
    "kernelspec": {
      "name": "python3",
      "display_name": "Python 3"
    },
    "language_info": {
      "name": "python"
    },
    "accelerator": "GPU"
  },
  "cells": [
    {
      "cell_type": "markdown",
      "source": [
        "# Run an Ollama Server on Google Colab & Expose via ngrok 🚀"
      ],
      "metadata": {
        "id": "o6fSw-ukxNYC"
      }
    },
    {
      "cell_type": "markdown",
      "source": [
        "## Step 1: Install Ollama ✅"
      ],
      "metadata": {
        "id": "OU8jOf3b3gtD"
      }
    },
    {
      "cell_type": "code",
      "source": [
        "!curl -fsSL https://ollama.ai/install.sh | sh"
      ],
      "metadata": {
        "id": "yhcu3b80xZtf"
      },
      "execution_count": null,
      "outputs": []
    },
    {
      "cell_type": "markdown",
      "source": [
        "## Step 2: Install & Setup ngrok ✅"
      ],
      "metadata": {
        "id": "jYX_Z_e8xdzi"
      }
    },
    {
      "cell_type": "code",
      "source": [
        "!wget -q https://bin.equinox.io/c/bNyj1mQVY4c/ngrok-v3-stable-linux-amd64.tgz\n",
        "!tar -xzf ngrok-v3-stable-linux-amd64.tgz ngrok"
      ],
      "metadata": {
        "id": "7ZtwNLG7xh_Y"
      },
      "execution_count": 2,
      "outputs": []
    },
    {
      "cell_type": "markdown",
      "source": [
        "## Authenticate ngrok"
      ],
      "metadata": {
        "id": "VHHPgjCVxlAL"
      }
    },
    {
      "cell_type": "code",
      "source": [
        "from google.colab import userdata\n",
        "import subprocess\n",
        "import time\n",
        "import requests"
      ],
      "metadata": {
        "id": "YAwvyVOb9hoM"
      },
      "execution_count": 3,
      "outputs": []
    },
    {
      "cell_type": "code",
      "source": [
        "NGROK_AUTH_TOKEN = userdata.get('ngrok')"
      ],
      "metadata": {
        "id": "pc5-QODW9jE8"
      },
      "execution_count": 4,
      "outputs": []
    },
    {
      "cell_type": "code",
      "source": [
        "!./ngrok authtoken {NGROK_AUTH_TOKEN}"
      ],
      "metadata": {
        "id": "6DXYK77W62jd"
      },
      "execution_count": null,
      "outputs": []
    },
    {
      "cell_type": "markdown",
      "source": [
        "###Start Ollama Serve"
      ],
      "metadata": {
        "id": "EUNi5gv47T8t"
      }
    },
    {
      "cell_type": "code",
      "source": [
        "ollama_proc = subprocess.Popen([\"ollama\", \"serve\"])\n",
        "print(f\"🟢 ollama serve dijalankan | PID: {ollama_proc.pid}\")\n"
      ],
      "metadata": {
        "id": "DGaLncdF17br"
      },
      "execution_count": null,
      "outputs": []
    },
    {
      "cell_type": "markdown",
      "source": [
        "###Start ngrok Serve"
      ],
      "metadata": {
        "id": "HX2m2GbM7tRl"
      }
    },
    {
      "cell_type": "code",
      "source": [
        "ngrok_proc = subprocess.Popen([\n",
        "    \"./ngrok\", \"http\", \"11434\", \"--host-header=localhost:11434\"\n",
        "])\n",
        "print(f\"🟢 ngrok dijalankan | PID: {ngrok_proc.pid}\")"
      ],
      "metadata": {
        "id": "mnlGyv02_jEZ"
      },
      "execution_count": null,
      "outputs": []
    },
    {
      "cell_type": "code",
      "source": [
        "try:\n",
        "    res = requests.get(\"http://localhost:4040/api/tunnels\")\n",
        "    tunnels = res.json()['tunnels']\n",
        "    public_url = tunnels[0]['public_url']\n",
        "    print(f\"🔗 Link publik ngrok: {public_url}\")\n",
        "except Exception as e:\n",
        "    print(\"❌ Gagal mengambil URL ngrok:\", e)"
      ],
      "metadata": {
        "id": "XdydC71p_kxN"
      },
      "execution_count": null,
      "outputs": []
    },
    {
      "cell_type": "markdown",
      "source": [
        "###Start llama3.2"
      ],
      "metadata": {
        "id": "ks8gidL77zhY"
      }
    },
    {
      "cell_type": "code",
      "source": [
        "llama_proc = subprocess.Popen([\"ollama\", \"run\", \"llama3.2\"])\n",
        "print(f\"🟢 Model llama3.2 dijalankan | PID: {llama_proc.pid}\")\n"
      ],
      "metadata": {
        "id": "LTmEWXpV2EKe"
      },
      "execution_count": null,
      "outputs": []
    },
    {
      "cell_type": "markdown",
      "source": [
        "###chek serve"
      ],
      "metadata": {
        "id": "DtAZbOUZ79M5"
      }
    },
    {
      "cell_type": "code",
      "source": [
        "print(\"📋 Daftar proses terkait yang sedang berjalan:\\n\")\n",
        "\n",
        "for keyword in [\"ollama\", \"ngrok\", \"llama3\"]:\n",
        "    print(f\"\\n🔍 Proses aktif: {keyword}\")\n",
        "    result = subprocess.run([\"ps\", \"-ef\"], capture_output=True, text=True)\n",
        "    lines = result.stdout.splitlines()\n",
        "    matched = [line for line in lines if keyword in line]\n",
        "    if matched:\n",
        "        for line in matched:\n",
        "            print(line)\n",
        "    else:\n",
        "        print(f\"❌ Tidak ada proses '{keyword}' ditemukan.\")\n"
      ],
      "metadata": {
        "id": "krzAIkqZz4aK"
      },
      "execution_count": null,
      "outputs": []
    },
    {
      "cell_type": "markdown",
      "source": [
        "###Stop serve ollama"
      ],
      "metadata": {
        "id": "MnlHe3PTxwWh"
      }
    },
    {
      "cell_type": "code",
      "source": [
        "try:\n",
        "    ollama_proc.terminate()\n",
        "    ollama_proc.wait()\n",
        "    print(\"🛑 Proses 'ollama serve' dihentikan dan dibersihkan.\")\n",
        "except:\n",
        "    print(\"⚠️ Gagal menghentikan 'ollama serve' (mungkin belum dijalankan atau sudah mati).\")\n"
      ],
      "metadata": {
        "id": "aLKMOfIR04GK"
      },
      "execution_count": null,
      "outputs": []
    },
    {
      "cell_type": "markdown",
      "source": [
        "###Stop serve ngrok"
      ],
      "metadata": {
        "id": "QoABir1c8kRp"
      }
    },
    {
      "cell_type": "code",
      "source": [
        "try:\n",
        "    ngrok_proc.terminate()\n",
        "    ngrok_proc.wait()\n",
        "    print(\"🛑 ngrok dihentikan dan dibersihkan.\")\n",
        "except:\n",
        "    print(\"⚠️ Gagal menghentikan 'ngrok' (mungkin belum dijalankan).\")\n"
      ],
      "metadata": {
        "id": "YZGdom_h0-Xj"
      },
      "execution_count": null,
      "outputs": []
    },
    {
      "cell_type": "markdown",
      "source": [
        "###Stop serve llama3.2"
      ],
      "metadata": {
        "id": "vN3pADRG8m-x"
      }
    },
    {
      "cell_type": "code",
      "source": [
        "try:\n",
        "    llama_proc.terminate()\n",
        "    llama_proc.wait()\n",
        "    print(\"🛑 llama3.2 dihentikan dan dibersihkan.\")\n",
        "except:\n",
        "    print(\"⚠️ Gagal menghentikan 'ollama run llama3.2' (mungkin belum dijalankan).\")\n"
      ],
      "metadata": {
        "id": "kwlKAv_81GKY"
      },
      "execution_count": null,
      "outputs": []
    },
    {
      "cell_type": "markdown",
      "source": [
        "##✅ 1. Install Semua Dependensi (WAJIB)"
      ],
      "metadata": {
        "id": "oEeZMtonxrvo"
      }
    },
    {
      "cell_type": "code",
      "source": [
        "!pip install -U llama-index langchain langchain-community sentence-transformers"
      ],
      "metadata": {
        "id": "zPQWxdFDtHO5"
      },
      "execution_count": null,
      "outputs": []
    },
    {
      "cell_type": "markdown",
      "source": [
        "##✅ 2. Load Dokumen dari Google Drive (LlamaIndex)"
      ],
      "metadata": {
        "id": "xpPz5M7Ax-Pn"
      }
    },
    {
      "cell_type": "code",
      "source": [
        "from llama_index.core import SimpleDirectoryReader\n",
        "\n",
        "folder_path = \"/content/drive/MyDrive/Distrik\"\n",
        "\n",
        "documents = SimpleDirectoryReader(input_dir=folder_path, recursive=True).load_data()\n",
        "\n",
        "print(f\"\\n✅ Total dokumen terbaca: {len(documents)}\\n\")\n",
        "\n",
        "for i, doc in enumerate(documents, start=1):\n",
        "    file_path = doc.metadata.get(\"file_path\", \"Tidak diketahui\")\n",
        "    print(f\"{i}. {file_path}\")\n"
      ],
      "metadata": {
        "id": "rTNLuWnAx4d2"
      },
      "execution_count": null,
      "outputs": []
    },
    {
      "cell_type": "code",
      "source": [
        "from llama_index.embeddings import HuggingFaceEmbedding\n",
        "from llama_index.core import VectorStoreIndex, ServiceContext\n",
        "\n",
        "embed_model = HuggingFaceEmbedding(model_name=\"sentence-transformers/all-MiniLM-L6-v2\")\n",
        "\n",
        "service_context = ServiceContext.from_defaults(embed_model=embed_model)\n",
        "\n",
        "index = VectorStoreIndex.from_documents(documents, service_context=service_context)\n",
        "\n",
        "print(\"✅ Index selesai dibuat.\")\n"
      ],
      "metadata": {
        "id": "tv6nEO9czMIA"
      },
      "execution_count": null,
      "outputs": []
    }
  ]
}